{
 "cells": [
  {
   "cell_type": "code",
   "execution_count": 1,
   "id": "2e6f8087",
   "metadata": {},
   "outputs": [
    {
     "name": "stdout",
     "output_type": "stream",
     "text": [
      "<class 'int'>\n",
      "<class 'str'>\n",
      "<class 'float'>\n"
     ]
    }
   ],
   "source": [
    "a = 4\n",
    "b = \"ali\"\n",
    "c = 5.3\n",
    "\n",
    "print(type(a))  \n",
    "print(type(b))  \n",
    "print(type(c))  "
   ]
  },
  {
   "cell_type": "code",
   "execution_count": 5,
   "id": "674ce83e",
   "metadata": {},
   "outputs": [
    {
     "name": "stdout",
     "output_type": "stream",
     "text": [
      "Enter 3 variables separated by spaces: 55 sdf 66.6\n",
      "55 sdf 66.6\n"
     ]
    }
   ],
   "source": [
    "x = input(\"Enter 3 variables separated by spaces: \")\n",
    "a,b,c = x.split()\n",
    "print(a, b, c)"
   ]
  },
  {
   "cell_type": "code",
   "execution_count": 7,
   "id": "cc37e86d",
   "metadata": {},
   "outputs": [
    {
     "name": "stdout",
     "output_type": "stream",
     "text": [
      "Enter a number6684\n",
      "4\n"
     ]
    }
   ],
   "source": [
    "x = int(input(\"Enter a number\"))\n",
    "a = str(x)\n",
    "print( len(a))"
   ]
  },
  {
   "cell_type": "code",
   "execution_count": 9,
   "id": "022f3477",
   "metadata": {},
   "outputs": [
    {
     "name": "stdout",
     "output_type": "stream",
     "text": [
      "Enter a number851511\n",
      "Enter the number of digits you want to remove them 2\n",
      "8515\n"
     ]
    }
   ],
   "source": [
    "num = int(input(\"Enter a number\"))\n",
    "k = int(input(\"Enter the number of digits you want to remove them \"))\n",
    "result = num // 10 ** k\n",
    "print( result)\n"
   ]
  },
  {
   "cell_type": "code",
   "execution_count": 10,
   "id": "adcd4423",
   "metadata": {},
   "outputs": [
    {
     "name": "stdout",
     "output_type": "stream",
     "text": [
      "Enter numbers here5 8  4 1 8 \n",
      "Maximum: 8\n",
      "Minimum: 1\n"
     ]
    }
   ],
   "source": [
    "a = list(map(int, input(\"Enter numbers here\").split()))\n",
    "print(\"Maximum:\", max(a))\n",
    "print(\"Minimum:\", min(a))\n"
   ]
  },
  {
   "cell_type": "code",
   "execution_count": 12,
   "id": "fb854f55",
   "metadata": {},
   "outputs": [
    {
     "name": "stdout",
     "output_type": "stream",
     "text": [
      "44\n",
      "55\n",
      "Minimum value: 44\n"
     ]
    }
   ],
   "source": [
    "a = int(input())\n",
    "b = int(input())\n",
    "minimum = min(a, b)\n",
    "print(\"Minimum value:\", minimum)\n"
   ]
  },
  {
   "cell_type": "code",
   "execution_count": 15,
   "id": "f432975f",
   "metadata": {},
   "outputs": [
    {
     "name": "stdout",
     "output_type": "stream",
     "text": [
      "Enter your salary here8451541\n",
      "you are rich\n"
     ]
    }
   ],
   "source": [
    "salary = int(input(\"Enter your salary here\"))\n",
    "if(salary < 1000):\n",
    "    print(\"you are poor\") \n",
    "elif (salary >= 1000 and salary < 20000):\n",
    "    print(\" good salary\")\n",
    "elif (salary >=  20000):\n",
    "    print(\"you are rich\")"
   ]
  },
  {
   "cell_type": "code",
   "execution_count": 16,
   "id": "636e2c91",
   "metadata": {},
   "outputs": [
    {
     "name": "stdout",
     "output_type": "stream",
     "text": [
      "Enter your age here 466\n",
      "You can drive a car\n"
     ]
    }
   ],
   "source": [
    "x = int(input(\"Enter your age here \"))\n",
    "if x >= 18:\n",
    "    print(\"You can drive a car\")\n",
    "else:\n",
    "    print(\"You cannot drive a car\")\n"
   ]
  },
  {
   "cell_type": "code",
   "execution_count": 19,
   "id": "9bd762be",
   "metadata": {},
   "outputs": [
    {
     "name": "stdout",
     "output_type": "stream",
     "text": [
      "Enter the first number: 515\n",
      "Enter the second number: 0\n",
      "infintiy\n"
     ]
    }
   ],
   "source": [
    "a = float(input(\"Enter the first number: \"))\n",
    "b = float(input(\"Enter the second number: \"))\n",
    "if b != 0:\n",
    "    result = a / b\n",
    "    print(result)\n",
    "else:\n",
    "    print(\"infintiy\")\n"
   ]
  },
  {
   "cell_type": "code",
   "execution_count": 20,
   "id": "2524d89a",
   "metadata": {},
   "outputs": [
    {
     "name": "stdout",
     "output_type": "stream",
     "text": [
      "0\n",
      "3\n",
      "6\n",
      "9\n",
      "12\n"
     ]
    }
   ],
   "source": [
    "for i in range(0, 13, 3):\n",
    "    print(i)"
   ]
  },
  {
   "cell_type": "code",
   "execution_count": 21,
   "id": "add869d0",
   "metadata": {},
   "outputs": [
    {
     "name": "stdout",
     "output_type": "stream",
     "text": [
      "0 0\n",
      "1 3\n",
      "2 6\n",
      "3 9\n",
      "4 12\n"
     ]
    }
   ],
   "source": [
    "for index, value in enumerate(range(0, 13, 3)):\n",
    "    print(index, value)"
   ]
  },
  {
   "cell_type": "code",
   "execution_count": 23,
   "id": "324d99ff",
   "metadata": {},
   "outputs": [
    {
     "name": "stdout",
     "output_type": "stream",
     "text": [
      "[4, 36, 81, 16, 81]\n"
     ]
    }
   ],
   "source": [
    "listt = [2,6,9,4,9]\n",
    "result = [x ** 2 for x in listt]\n",
    "print(result)\n"
   ]
  },
  {
   "cell_type": "code",
   "execution_count": 24,
   "id": "b0ea380e",
   "metadata": {},
   "outputs": [
    {
     "name": "stdout",
     "output_type": "stream",
     "text": [
      "[1, 2, 3, 4, 5, 6]\n"
     ]
    }
   ],
   "source": [
    "list1 = [1, 2, 3]\n",
    "list2 = [4, 5, 6]\n",
    "concatenate = list1 + list2\n",
    "print(concatenate)\n"
   ]
  },
  {
   "cell_type": "code",
   "execution_count": 25,
   "id": "58fcc116",
   "metadata": {},
   "outputs": [
    {
     "name": "stdout",
     "output_type": "stream",
     "text": [
      "(10, 8, 5, 4, 1)\n"
     ]
    }
   ],
   "source": [
    "tuplee = (1, 4, 5 ,8,10)\n",
    "reversed_tuplee = tuple(reversed(tuplee))\n",
    "print(reversed_tuplee)\n"
   ]
  },
  {
   "cell_type": "code",
   "execution_count": 26,
   "id": "cd5c21bc",
   "metadata": {},
   "outputs": [
    {
     "name": "stdout",
     "output_type": "stream",
     "text": [
      "{'Ten': 10, 'Twenty': 20, 'Thirty': 30}\n"
     ]
    }
   ],
   "source": [
    "keys = ['Ten', 'Twenty', 'Thirty']\n",
    "values = [10, 20, 30]\n",
    "dicttt = dict(zip(keys, values))\n",
    "print(dicttt)"
   ]
  },
  {
   "cell_type": "code",
   "execution_count": 28,
   "id": "597b5474",
   "metadata": {},
   "outputs": [
    {
     "name": "stdout",
     "output_type": "stream",
     "text": [
      "Capital of egypt cairo\n"
     ]
    }
   ],
   "source": [
    "countries = {\n",
    "    'egypt': 'cairo',\n",
    "    \"aspaniol\":\"barcelona\",\n",
    "    'France': 'Paris',\n",
    "    'Germany': 'Berlin',\n",
    "    'Japan': 'Tokyo'\n",
    "}\n",
    "print(\"Capital of egypt\", countries['egypt'])\n"
   ]
  },
  {
   "cell_type": "code",
   "execution_count": 33,
   "id": "8c30e169",
   "metadata": {},
   "outputs": [
    {
     "name": "stdout",
     "output_type": "stream",
     "text": [
      "{'ali': (95, 'A'), 'ayman': (85, 'B'), 'soliman': (51, 'd')}\n"
     ]
    }
   ],
   "source": [
    "names = {'ali': 'A', 'ayman': 'B', 'soliman': 'd'}\n",
    "grades = {'ali': 95, 'ayman': 85, 'soliman':51}\n",
    "\n",
    "combined_dictt = {name: (grades.get(name), grade) for name, grade in names.items()}\n",
    "print(combined_dictt)\n"
   ]
  },
  {
   "cell_type": "code",
   "execution_count": null,
   "id": "25d2bde6",
   "metadata": {},
   "outputs": [],
   "source": []
  }
 ],
 "metadata": {
  "kernelspec": {
   "display_name": "Python 3 (ipykernel)",
   "language": "python",
   "name": "python3"
  },
  "language_info": {
   "codemirror_mode": {
    "name": "ipython",
    "version": 3
   },
   "file_extension": ".py",
   "mimetype": "text/x-python",
   "name": "python",
   "nbconvert_exporter": "python",
   "pygments_lexer": "ipython3",
   "version": "3.9.13"
  }
 },
 "nbformat": 4,
 "nbformat_minor": 5
}
