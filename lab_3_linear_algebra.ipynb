{
 "cells": [
  {
   "cell_type": "code",
   "execution_count": 18,
   "id": "37095cd5",
   "metadata": {},
   "outputs": [
    {
     "name": "stdout",
     "output_type": "stream",
     "text": [
      "[15, 99, 61, 23, 21, 22, 75, 80, 28, 3, 33, 4, 81, 92, 43]\n",
      "Rounded numbers: [15, 99, 61, 23, 21, 22, 75, 80, 28, 3, 33, 4, 81, 92, 43]\n",
      "Square roots:\n",
      "The square root of 15 is 3.87\n",
      "The square root of 99 is 9.95\n",
      "The square root of 61 is 7.81\n",
      "The square root of 23 is 4.80\n",
      "The square root of 21 is 4.58\n",
      "The square root of 22 is 4.69\n",
      "The square root of 75 is 8.66\n",
      "The square root of 80 is 8.94\n",
      "The square root of 28 is 5.29\n",
      "The square root of 3 is 1.73\n",
      "The square root of 33 is 5.74\n",
      "The square root of 4 is 2.00\n",
      "The square root of 81 is 9.00\n",
      "The square root of 92 is 9.59\n",
      "The square root of 43 is 6.56\n"
     ]
    }
   ],
   "source": [
    "import math\n",
    "import numpy as np\n",
    "import random\n",
    "\n",
    "nums = list(random.sample(range(2, 100), 15))\n",
    "print(nums)\n",
    "\n",
    "\n",
    "rounded_numbers = [round(num) for num in nums]\n",
    "\n",
    "# Print the rounded numbers\n",
    "print(\"Rounded numbers:\", rounded_numbers)\n",
    "\n",
    "# Print the square root of each number in the list\n",
    "print(\"Square roots:\")\n",
    "for num in nums:\n",
    "    sqrt = math.sqrt(num)\n",
    "    print(f\"The square root of {num} is {sqrt:.2f}\")\n"
   ]
  },
  {
   "cell_type": "code",
   "execution_count": 20,
   "id": "463b9505",
   "metadata": {},
   "outputs": [
    {
     "name": "stdout",
     "output_type": "stream",
     "text": [
      "[[ 1 12 10]\n",
      " [ 7 12  9]]\n",
      "--------------------------------------\n",
      "[[19 27]\n",
      " [19 30]\n",
      " [28 42]]\n",
      "--------------------------------------\n",
      "[[23 25]\n",
      " [27 27]]\n"
     ]
    }
   ],
   "source": [
    "matrix1 = np.random.randint(1, 15, size=(2, 3))\n",
    "\n",
    "matrix2 = np.random.randint(15, 51, size=(3, 2))\n",
    "\n",
    "matrix3 = np.random.randint(21, 31, size=(2, 2))\n",
    "\n",
    "\n",
    "print(matrix1)\n",
    "print(\"--------------------------------------\")\n",
    "\n",
    "print(matrix2)\n",
    "\n",
    "print(\"--------------------------------------\")\n",
    "\n",
    "print(matrix3)"
   ]
  },
  {
   "cell_type": "code",
   "execution_count": 21,
   "id": "fde6319f",
   "metadata": {},
   "outputs": [
    {
     "name": "stdout",
     "output_type": "stream",
     "text": [
      "[[3 3]\n",
      " [7 5]]\n",
      "--------------------------------------\n",
      "[[17 21]\n",
      " [15 21]]\n"
     ]
    }
   ],
   "source": [
    "matrix1 = np.random.randint(1, 8, size=(2, 2))\n",
    "\n",
    "matrix2 = np.random.randint(15, 26, size=(2, 2))\n",
    "\n",
    "print(matrix1)\n",
    "print(\"--------------------------------------\")\n",
    "print(matrix2)"
   ]
  },
  {
   "cell_type": "code",
   "execution_count": 22,
   "id": "e6bcb2b2",
   "metadata": {},
   "outputs": [
    {
     "name": "stdout",
     "output_type": "stream",
     "text": [
      "[[ 9  9]\n",
      " [21 15]]\n",
      "--------------------------------------\n",
      "[[51 63]\n",
      " [45 63]]\n"
     ]
    }
   ],
   "source": [
    "scalar = 3\n",
    "r_matrix1 = scalar * matrix1\n",
    "r_matrix2 = scalar * matrix2\n",
    "\n",
    "print(r_matrix1)\n",
    "print(\"--------------------------------------\")\n",
    "print(r_matrix2)"
   ]
  },
  {
   "cell_type": "code",
   "execution_count": 23,
   "id": "5cd71ea7",
   "metadata": {},
   "outputs": [
    {
     "name": "stdout",
     "output_type": "stream",
     "text": [
      "[[40 34 23]\n",
      " [33 19 32]\n",
      " [38 44 23]\n",
      " [23 40 27]\n",
      " [46 36 28]]\n",
      "------------------------------------------------------\n",
      "[[40 33 38 23 46]\n",
      " [34 19 44 40 36]\n",
      " [23 32 23 27 28]]\n"
     ]
    }
   ],
   "source": [
    "# assignment\n",
    "# 1) what happens when we transpose twice?\n",
    "\n",
    "# >>>> it return to the original matrix\n",
    "# ______________________________________________________________\n",
    "\n",
    "# 2) confirm that the transpose operation work on non square matrices (rectangle matrices)\n",
    "\n",
    "matrix2 = np.random.randint(15, 51, size=(5, 3))\n",
    "print(matrix2)\n",
    "print(\"------------------------------------------------------\")\n",
    "print(matrix2.T)"
   ]
  },
  {
   "cell_type": "code",
   "execution_count": 24,
   "id": "74e68047",
   "metadata": {},
   "outputs": [
    {
     "name": "stdout",
     "output_type": "stream",
     "text": [
      "Original Matrix:\n",
      "[[8 4 4]\n",
      " [3 2 8]\n",
      " [7 3 4]]\n",
      "\n",
      "Identity Matrix:\n",
      "[[8. 4. 4.]\n",
      " [3. 2. 8.]\n",
      " [7. 3. 4.]]\n",
      "\n",
      "Result of Multiplying by Zeros Matrix:\n",
      "[[0. 0. 0.]\n",
      " [0. 0. 0.]\n",
      " [0. 0. 0.]]\n",
      "\n",
      "Result of Multiplying by Transpose Matrix:\n",
      "[[96 64 84]\n",
      " [64 77 59]\n",
      " [84 59 74]]\n"
     ]
    }
   ],
   "source": [
    "import numpy as np\n",
    "\n",
    "matrix = np.random.randint(1, 10, size=(3, 3))\n",
    "\n",
    "identity_matrix = np.identity(3)\n",
    "zeros_matrix = np.zeros((3, 3))\n",
    "transpose_matrix = matrix.T\n",
    "\n",
    "identity = np.dot(matrix, identity_matrix)\n",
    "zeros = np.dot(matrix, zeros_matrix)\n",
    "transpose = np.dot(matrix, transpose_matrix)\n",
    "\n",
    "print(\"Original Matrix:\")\n",
    "print(matrix)\n",
    "\n",
    "print(\"\\nIdentity Matrix:\")\n",
    "print(identity)\n",
    "\n",
    "print(\"\\nResult of Multiplying by Zeros Matrix:\")\n",
    "print(zeros)\n",
    "\n",
    "print(\"\\nResult of Multiplying by Transpose Matrix:\")\n",
    "print(transpose)\n"
   ]
  },
  {
   "cell_type": "code",
   "execution_count": 25,
   "id": "beb1bd09",
   "metadata": {},
   "outputs": [
    {
     "name": "stdout",
     "output_type": "stream",
     "text": [
      "[[ 4  5  6]\n",
      " [ 8 10 12]\n",
      " [12 15 18]]\n",
      "\n",
      "Cross Product:\n",
      "[-3  6 -3]\n",
      "\n",
      "Original 3x3 Matrix:\n",
      "[[0.62470467 0.97417406 0.58194106]\n",
      " [0.69470699 0.63624303 0.54016542]\n",
      " [0.24243828 0.6694873  0.06804873]]\n",
      "\n",
      "Inverse Matrix:\n",
      "[[-5.00931173  5.0875578   2.45414419]\n",
      " [ 1.31681734 -1.55114844  1.05169745]\n",
      " [ 4.89144234 -2.86477901 -4.39503567]]\n"
     ]
    }
   ],
   "source": [
    "\n",
    "vector1 = np.array([1, 2, 3])\n",
    "vector2 = np.array([4, 5, 6])\n",
    "\n",
    "outer_product = np.outer(vector1, vector2)\n",
    "print(outer_product)\n",
    "\n",
    "cross_product = np.cross(vector1, vector2)\n",
    "print(\"\\nCross Product:\")\n",
    "print(cross_product)\n",
    "\n",
    "matrix= np.random.rand(3, 3)  \n",
    "inverse_matrix = np.linalg.inv(matrix)\n",
    "\n",
    "print(\"\\nOriginal 3x3 Matrix:\")\n",
    "print(matrix)\n",
    "\n",
    "print(\"\\nInverse Matrix:\")\n",
    "print(inverse_matrix)"
   ]
  },
  {
   "cell_type": "code",
   "execution_count": null,
   "id": "ef4fc180",
   "metadata": {},
   "outputs": [],
   "source": []
  }
 ],
 "metadata": {
  "kernelspec": {
   "display_name": "Python 3 (ipykernel)",
   "language": "python",
   "name": "python3"
  },
  "language_info": {
   "codemirror_mode": {
    "name": "ipython",
    "version": 3
   },
   "file_extension": ".py",
   "mimetype": "text/x-python",
   "name": "python",
   "nbconvert_exporter": "python",
   "pygments_lexer": "ipython3",
   "version": "3.9.13"
  }
 },
 "nbformat": 4,
 "nbformat_minor": 5
}
