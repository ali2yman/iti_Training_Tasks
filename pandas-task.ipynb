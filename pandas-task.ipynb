{
 "cells": [
  {
   "cell_type": "code",
   "execution_count": 4,
   "id": "8b192bc1",
   "metadata": {},
   "outputs": [
    {
     "name": "stdout",
     "output_type": "stream",
     "text": [
      "       Name  Age    Stream  Percentage\n",
      "0       Ail   21      Math          88\n",
      "1     ayman   19  Commerce          92\n",
      "2   soliman   20   Science          95\n",
      "3  Priyanka   18      Math          70\n"
     ]
    }
   ],
   "source": [
    "import pandas as pd\n",
    "\n",
    "data = [\n",
    "    ['Ail', 21, 'Math', 88],\n",
    "    ['ayman', 19, 'Commerce', 92],\n",
    "    ['soliman', 20, 'Science', 95],\n",
    "    ['Priyanka', 18, 'Math', 70],\n",
    "]\n",
    "\n",
    "columns = ['Name', 'Age', 'Stream', 'Percentage']\n",
    "\n",
    "df = pd.DataFrame(data, columns=columns)\n",
    "print(df)\n"
   ]
  },
  {
   "cell_type": "code",
   "execution_count": 5,
   "id": "ab6013e1",
   "metadata": {},
   "outputs": [
    {
     "name": "stdout",
     "output_type": "stream",
     "text": [
      "      Name  Age    Stream  Percentage\n",
      "0      ali   21      Math          88\n",
      "1    ayman   19  Commerce          92\n",
      "2  soliman   20      Math          95\n",
      "3       mo   18   Science          70\n"
     ]
    }
   ],
   "source": [
    "import pandas as pd\n",
    "\n",
    "record = {\n",
    "    'Name': ['ali', 'ayman', 'soliman', 'mo'],\n",
    "    'Age': [21, 19, 20, 18],\n",
    "    'Stream': ['Math', 'Commerce', 'Math', 'Science'],\n",
    "    'Percentage': [88, 92, 95, 70]\n",
    "}\n",
    "\n",
    "columns = ['Name', 'Age', 'Stream', 'Percentage']\n",
    "\n",
    "df = pd.DataFrame.from_dict(record)\n",
    "df = df[columns]  \n",
    "print(df)\n"
   ]
  },
  {
   "cell_type": "code",
   "execution_count": 6,
   "id": "9b5bbc83",
   "metadata": {},
   "outputs": [
    {
     "name": "stdout",
     "output_type": "stream",
     "text": [
      "    Name  Age    Stream  Percentage\n",
      "0    ali   21      Math          88\n",
      "1  ayman   19  Commerce          92\n"
     ]
    }
   ],
   "source": [
    "import pandas as pd\n",
    "\n",
    "record = {\n",
    "    'Name': ['ali', 'ayman', 'soliman', 'mo'],\n",
    "    'Age': [21, 19, 20, 18],\n",
    "    'Stream': ['Math', 'Commerce', 'Math', 'Science'],\n",
    "    'Percentage': [88, 92, 65, 78]\n",
    "}\n",
    "\n",
    "columns = ['Name', 'Age', 'Stream', 'Percentage']\n",
    "\n",
    "df = pd.DataFrame.from_dict(record)\n",
    "df = df[columns]  \n",
    "\n",
    "selected_rows = df[df['Percentage'] > 80]\n",
    "print(selected_rows)\n"
   ]
  },
  {
   "cell_type": "code",
   "execution_count": 7,
   "id": "e8e3a28f",
   "metadata": {},
   "outputs": [
    {
     "name": "stdout",
     "output_type": "stream",
     "text": [
      "        name  score  attempts qualify\n",
      "a  Anastasia   12.5         1     yes\n",
      "b       Dima    9.0         3      no\n",
      "c  Katherine   16.5         2     yes\n",
      "d      James    NaN         3      no\n",
      "e      Emily    9.0         2      no\n",
      "f    Michael   20.0         3     yes\n",
      "g    Matthew   14.5         1     yes\n",
      "h      Laura    NaN         1      no\n",
      "i      Kevin    8.0         2      no\n",
      "j      Jonas   19.0         1     yes\n"
     ]
    }
   ],
   "source": [
    "import pandas as pd\n",
    "import numpy as np\n",
    "\n",
    "exam_data = {\n",
    "    'name': ['Anastasia', 'Dima', 'Katherine', 'James', 'Emily', 'Michael', 'Matthew', 'Laura', 'Kevin', 'Jonas'],\n",
    "    'score': [12.5, 9, 16.5, np.nan, 9, 20, 14.5, np.nan, 8, 19],\n",
    "    'attempts': [1, 3, 2, 3, 2, 3, 1, 1, 2, 1],\n",
    "    'qualify': ['yes', 'no', 'yes', 'no', 'no', 'yes', 'yes', 'no', 'no', 'yes']\n",
    "}\n",
    "\n",
    "labels = ['a', 'b', 'c', 'd', 'e', 'f', 'g', 'h', 'i', 'j']\n",
    "\n",
    "df = pd.DataFrame(exam_data, index=labels)\n",
    "print(df)\n"
   ]
  },
  {
   "cell_type": "code",
   "execution_count": 8,
   "id": "72620880",
   "metadata": {},
   "outputs": [
    {
     "name": "stdout",
     "output_type": "stream",
     "text": [
      "    X   Y   Z\n",
      "0  78  84  86\n",
      "1  85  94  97\n",
      "2  96  89  96\n",
      "3  80  83  72\n",
      "4  86  86  83\n"
     ]
    }
   ],
   "source": [
    "import pandas as pd\n",
    "\n",
    "data = {'X': [78, 85, 96, 80, 86], 'Y': [84, 94, 89, 83, 86], 'Z': [86, 97, 96, 72, 83]}\n",
    "\n",
    "df = pd.DataFrame(data)\n",
    "print(df)\n"
   ]
  },
  {
   "cell_type": "code",
   "execution_count": 9,
   "id": "f8441afa",
   "metadata": {},
   "outputs": [
    {
     "name": "stdout",
     "output_type": "stream",
     "text": [
      "      name  score\n",
      "b     Dima    9.0\n",
      "d    James    NaN\n",
      "e    Emily    9.0\n",
      "f  Michael   20.0\n"
     ]
    }
   ],
   "source": [
    "import pandas as pd\n",
    "import numpy as np\n",
    "\n",
    "exam_data = {\n",
    "    'name': ['Anastasia', 'Dima', 'Katherine', 'James', 'Emily', 'Michael', 'Matthew', 'Laura', 'Kevin', 'Jonas'],\n",
    "    'score': [12.5, 9, 16.5, np.nan, 9, 20, 14.5, np.nan, 8, 19],\n",
    "    'attempts': [1, 3, 2, 3, 2, 3, 1, 1, 2, 1],\n",
    "    'qualify': ['yes', 'no', 'yes', 'no', 'no', 'yes', 'yes', 'no', 'no', 'yes']\n",
    "}\n",
    "\n",
    "labels = ['a', 'b', 'c', 'd', 'e', 'f', 'g', 'h', 'i', 'j']\n",
    "\n",
    "df = pd.DataFrame(exam_data, index=labels)\n",
    "\n",
    "# Select 'name' and 'score' columns in rows 1, 3, 5, 6\n",
    "selected_df = df.loc[['b', 'd', 'e', 'f'], ['name', 'score']]\n",
    "print(selected_df)\n"
   ]
  },
  {
   "cell_type": "code",
   "execution_count": null,
   "id": "ff480b1d",
   "metadata": {},
   "outputs": [],
   "source": []
  }
 ],
 "metadata": {
  "kernelspec": {
   "display_name": "Python 3 (ipykernel)",
   "language": "python",
   "name": "python3"
  },
  "language_info": {
   "codemirror_mode": {
    "name": "ipython",
    "version": 3
   },
   "file_extension": ".py",
   "mimetype": "text/x-python",
   "name": "python",
   "nbconvert_exporter": "python",
   "pygments_lexer": "ipython3",
   "version": "3.9.13"
  }
 },
 "nbformat": 4,
 "nbformat_minor": 5
}
